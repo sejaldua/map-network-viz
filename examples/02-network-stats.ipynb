{
 "cells": [
  {
   "cell_type": "code",
   "execution_count": 1,
   "metadata": {},
   "outputs": [],
   "source": [
    "%%capture\n",
    "!python3 -m pip install geopy map_network_viz --upgrade"
   ]
  },
  {
   "cell_type": "code",
   "execution_count": 1,
   "metadata": {},
   "outputs": [],
   "source": [
    "import osmnx as ox\n",
    "import matplotlib.cm as cm\n",
    "import matplotlib.colors as colors\n",
    "from matplotlib.lines import Line2D\n",
    "from geopy import geocoders\n",
    "import matplotlib.pyplot as plt\n",
    "import re\n",
    "from pop_us_cities import *\n",
    "from map_network_viz import geocode\n",
    "import pandas as pd\n"
   ]
  },
  {
   "cell_type": "code",
   "execution_count": 2,
   "metadata": {},
   "outputs": [],
   "source": [
    "distance = 3000\n",
    "stats_df = pd.DataFrame()\n",
    "for city in us_cities:\n",
    "    street_names = set()\n",
    "    latitude, longitude = geocode(city)\n",
    "    G = ox.graph_from_point((latitude, longitude), distance, network_type=\"all\", retain_all=True, simplify=True)\n",
    "    stats_dict = ox.stats.basic_stats(G)\n",
    "    stats_dict = {k: v for k, v in stats_dict.items() if k not in ('streets_per_node_counts', 'streets_per_node_proportions')}\n",
    "    tmp_df = pd.DataFrame.from_dict(stats_dict, orient='index').transpose()\n",
    "    tmp_df.index = [city]\n",
    "    stats_df = pd.concat([stats_df, tmp_df], axis=0)\n",
    "\n",
    "stats_df"
   ]
  },
  {
   "cell_type": "code",
   "execution_count": null,
   "metadata": {},
   "outputs": [],
   "source": []
  }
 ],
 "metadata": {
  "kernelspec": {
   "display_name": "Python 3.9.6 64-bit",
   "language": "python",
   "name": "python3"
  },
  "language_info": {
   "codemirror_mode": {
    "name": "ipython",
    "version": 3
   },
   "file_extension": ".py",
   "mimetype": "text/x-python",
   "name": "python",
   "nbconvert_exporter": "python",
   "pygments_lexer": "ipython3",
   "version": "3.9.6"
  },
  "orig_nbformat": 4,
  "vscode": {
   "interpreter": {
    "hash": "31f2aee4e71d21fbe5cf8b01ff0e069b9275f58929596ceb00d14d90e3e16cd6"
   }
  }
 },
 "nbformat": 4,
 "nbformat_minor": 2
}
