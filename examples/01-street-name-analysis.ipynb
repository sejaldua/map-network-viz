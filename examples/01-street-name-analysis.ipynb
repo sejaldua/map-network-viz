{
 "cells": [
  {
   "cell_type": "code",
   "execution_count": 1,
   "metadata": {},
   "outputs": [],
   "source": [
    "import osmnx as ox\n",
    "import matplotlib.cm as cm\n",
    "import matplotlib.colors as colors\n",
    "from matplotlib.lines import Line2D\n",
    "from geopy import geocoders\n",
    "import matplotlib.pyplot as plt\n",
    "import re\n"
   ]
  },
  {
   "cell_type": "code",
   "execution_count": 24,
   "metadata": {},
   "outputs": [],
   "source": [
    "def geocode_poi(poi):\n",
    "    \"\"\"\n",
    "    Geocode a point of interest from the Photon geocoder, built on top of OpenStreetMap.\n",
    "\n",
    "    Parameters:\n",
    "    poi (str): The point of interest to geocode.\n",
    "    \n",
    "    Returns:\n",
    "    tuple: The latitude and longitude of the point of interest.\n",
    "    \"\"\"\n",
    "\n",
    "    geo_obj = geocoders.Photon()\n",
    "    cleaned_poi = re.sub(r'[^\\w\\s]','',poi).replace(' ', '+').lower()\n",
    "    result = geo_obj.geocode(cleaned_poi, exactly_one=True)\n",
    "    return (result.latitude, result.longitude)\n",
    "\n",
    "\n",
    "distance = 3000\n",
    "cities = [\n",
    "    'New York, NY', \n",
    "    'Los Angeles, CA', \n",
    "    'Chicago, IL', \n",
    "    'Houston, TX',\n",
    "    'Phoenix, AZ',\n",
    "    'Philadelphia, PA',\n",
    "    'San Antonio, TX',\n",
    "    'San Diego, CA',\n",
    "    'Dallas, TX',\n",
    "    'Austin, TX',\n",
    "    'Jacksonville, FL',\n",
    "    'San Jose, CA',\n",
    "    'Fort Worth, TX',\n",
    "    'Columbus, OH',\n",
    "    'Charlotte, NC',\n",
    "    'Indianapolis, IN',\n",
    "    'San Francisco, CA',\n",
    "    'Seattle, WA',\n",
    "    'Denver, CO',\n",
    "    'Oklahoma City, OK',\n",
    "    'Nashville, TN',\n",
    "    'El Paso, TX',\n",
    "    'Washington, D.C.', \n",
    "    'Las Vegas, NV',\n",
    "    'Boston, MA',\n",
    "    'Portland, OR',\n",
    "    'Louisville, KY',\n",
    "    'Memphis, TN',\n",
    "    'Detroit, MI',\n",
    "    'Baltimore, MD',\n",
    "    'Milwaukee, WI',\n",
    "    'Albuquerque, NM',\n",
    "    'Tucson, AZ',\n",
    "    'Fresno, CA',\n",
    "    'Sacramento, CA',\n",
    "    'Mesa, AZ',\n",
    "    'Kansas City, MO',\n",
    "    'Atlanta, GA',\n",
    "    'Colorado Springs, CO',\n",
    "    'Omaha, NE',\n",
    "    'Raleigh, NC',\n",
    "    'Virginia Beach, VA',\n",
    "    'Long Beach, CA',\n",
    "    'Miami, FL',\n",
    "    'Oakland, CA',\n",
    "    'Minneapolis, MN',\n",
    "    'Tulsa, OK',\n",
    "    'Bakersfield, CA',\n",
    "    'Tampa, FL',\n",
    "    'Wichita, KS'\n",
    "]\n",
    "\n",
    "city_street_dict = {}\n",
    "for city in cities:\n",
    "    street_names = set()\n",
    "    latitude, longitude = geocode_poi(city)\n",
    "    G = ox.graph_from_point((latitude, longitude), distance, network_type=\"all\", retain_all=True, simplify=False)\n",
    "    H = ox.get_undirected(G)\n",
    "    for _, edge in ox.graph_to_gdfs(H, nodes=False).fillna('').iterrows():\n",
    "        text = edge['name']\n",
    "        if text != '':\n",
    "            street_names.add(text.split()[0])\n",
    "    city_street_dict[city] = street_names"
   ]
  },
  {
   "cell_type": "code",
   "execution_count": null,
   "metadata": {},
   "outputs": [
    {
     "data": {
      "text/plain": [
       "[('Market Street', 14),\n",
       " ('Main Street', 14),\n",
       " ('Elm Street', 14),\n",
       " ('Broadway', 13),\n",
       " ('State Street', 13),\n",
       " ('Spruce Street', 13),\n",
       " ('East 21st Street', 13),\n",
       " ('Jackson Street', 13),\n",
       " ('Oak Street', 13),\n",
       " ('Vine Street', 13),\n",
       " ('South 4th Street', 12),\n",
       " ('Park Avenue', 12),\n",
       " ('East 11th Street', 12),\n",
       " ('Pearl Street', 12),\n",
       " ('East 16th Street', 12),\n",
       " ('East 8th Street', 12),\n",
       " ('Franklin Street', 12),\n",
       " ('East 17th Street', 12),\n",
       " ('Jefferson Street', 12),\n",
       " ('East 9th Street', 12),\n",
       " ('Pine Street', 12),\n",
       " ('South 8th Street', 12),\n",
       " ('West 14th Street', 12),\n",
       " ('Union Street', 12),\n",
       " ('North 7th Street', 11)]"
      ]
     },
     "execution_count": 22,
     "metadata": {},
     "output_type": "execute_result"
    }
   ],
   "source": [
    "inverted_dict = {}\n",
    "for city, streets in city_street_dict.items():\n",
    "    for street in streets:\n",
    "        inverted_dict.setdefault(street, []).append(city)\n",
    "\n",
    "sorted_dict = sorted(inverted_dict.items(), key=lambda item: len(item[1]), reverse=True)\n",
    "[(x[0], len(x[1])) for x in sorted_dict][:25]"
   ]
  },
  {
   "cell_type": "code",
   "execution_count": null,
   "metadata": {},
   "outputs": [],
   "source": []
  }
 ],
 "metadata": {
  "kernelspec": {
   "display_name": "Python 3.11.4 ('base')",
   "language": "python",
   "name": "python3"
  },
  "language_info": {
   "codemirror_mode": {
    "name": "ipython",
    "version": 3
   },
   "file_extension": ".py",
   "mimetype": "text/x-python",
   "name": "python",
   "nbconvert_exporter": "python",
   "pygments_lexer": "ipython3",
   "version": "3.11.4"
  },
  "orig_nbformat": 4,
  "vscode": {
   "interpreter": {
    "hash": "697657d6a667edf045dbf6597c764e079f161e7798a1bfbf8f36612dd136c035"
   }
  }
 },
 "nbformat": 4,
 "nbformat_minor": 2
}
