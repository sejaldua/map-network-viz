{
 "cells": [
  {
   "cell_type": "code",
   "execution_count": 1,
   "metadata": {},
   "outputs": [],
   "source": [
    "%%capture\n",
    "!python3 -m pip install geopy map_network_viz --upgrade"
   ]
  },
  {
   "cell_type": "code",
   "execution_count": 4,
   "metadata": {},
   "outputs": [],
   "source": [
    "import osmnx as ox\n",
    "import matplotlib.cm as cm\n",
    "import matplotlib.colors as colors\n",
    "from matplotlib.lines import Line2D\n",
    "from geopy import geocoders\n",
    "import matplotlib.pyplot as plt\n",
    "import re\n",
    "from pop_us_cities import *\n",
    "from map_network_viz import geocode\n"
   ]
  },
  {
   "cell_type": "code",
   "execution_count": 5,
   "metadata": {},
   "outputs": [],
   "source": [
    "distance = 3000\n",
    "city_street_dict = {}\n",
    "for city in us_cities:\n",
    "    street_names = set()\n",
    "    latitude, longitude = geocode(city)\n",
    "    G = ox.graph_from_point((latitude, longitude), distance, network_type=\"all\", retain_all=True, simplify=False)\n",
    "    H = ox.get_undirected(G)\n",
    "    for _, edge in ox.graph_to_gdfs(H, nodes=False).fillna('').iterrows():\n",
    "        if edge['name'] == '':\n",
    "            continue\n",
    "        elif edge['name'].split()[0] in ['North', 'South', 'East', 'West', 'Northeast', 'Southeast', 'Northwest', 'Southwest'] and len(edge['name'].split()) == 2:\n",
    "            street_names.add(edge['name'])\n",
    "        else:\n",
    "            street_name = edge['name'].replace('North ', '').replace('South ', '').replace('East ', '').replace('West ', '') \\\n",
    "                .replace('Northeast ', '').replace('Southeast ', '').replace('Northwest ', '').replace('Southwest ', '')\n",
    "            street_names.add(street_name)\n",
    "    city_street_dict[city] = street_names"
   ]
  },
  {
   "cell_type": "code",
   "execution_count": 9,
   "metadata": {},
   "outputs": [
    {
     "name": "stdout",
     "output_type": "stream",
     "text": [
      "[('Main Street', 25),\n",
      " ('Pine Street', 20),\n",
      " ('Market Street', 20),\n",
      " ('Park Avenue', 20),\n",
      " ('Washington Street', 19),\n",
      " ('Jefferson Street', 19),\n",
      " ('Jackson Street', 19),\n",
      " ('Oak Street', 19),\n",
      " ('Walnut Street', 18),\n",
      " ('Elm Street', 18)]\n"
     ]
    }
   ],
   "source": [
    "from pprint import pprint\n",
    "inverted_dict = {}\n",
    "for city, streets in city_street_dict.items():\n",
    "    for street in streets:\n",
    "        inverted_dict.setdefault(street, []).append(city)\n",
    "\n",
    "sorted_dict = sorted(inverted_dict.items(), key=lambda item: len(item[1]), reverse=True)\n",
    "pprint([(x[0], len(x[1])) for x in sorted_dict if not any(char.isdigit() for char in x[0])][:10])"
   ]
  },
  {
   "cell_type": "code",
   "execution_count": null,
   "metadata": {},
   "outputs": [],
   "source": []
  }
 ],
 "metadata": {
  "kernelspec": {
   "display_name": "Python 3.9.6 64-bit",
   "language": "python",
   "name": "python3"
  },
  "language_info": {
   "codemirror_mode": {
    "name": "ipython",
    "version": 3
   },
   "file_extension": ".py",
   "mimetype": "text/x-python",
   "name": "python",
   "nbconvert_exporter": "python",
   "pygments_lexer": "ipython3",
   "version": "3.9.6"
  },
  "orig_nbformat": 4,
  "vscode": {
   "interpreter": {
    "hash": "31f2aee4e71d21fbe5cf8b01ff0e069b9275f58929596ceb00d14d90e3e16cd6"
   }
  }
 },
 "nbformat": 4,
 "nbformat_minor": 2
}
